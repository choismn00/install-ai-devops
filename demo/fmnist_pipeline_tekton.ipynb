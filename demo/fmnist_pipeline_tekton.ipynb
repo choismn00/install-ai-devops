{
 "cells": [
  {
   "cell_type": "code",
   "execution_count": 11,
   "metadata": {},
   "outputs": [
    {
     "ename": "TypeError",
     "evalue": "compile() got an unexpected keyword argument 'arguments'",
     "output_type": "error",
     "traceback": [
      "\u001b[0;31m---------------------------------------------------------------------------\u001b[0m",
      "\u001b[0;31mTypeError\u001b[0m                                 Traceback (most recent call last)",
      "\u001b[0;32m<ipython-input-11-eb90fdae9ed6>\u001b[0m in \u001b[0;36m<module>\u001b[0;34m\u001b[0m\n\u001b[1;32m     91\u001b[0m \u001b[0;31m#   kfp.Client().create_run_from_pipeline_func(pipeline_func=fmnist_pipeline, arguments=arguments)\u001b[0m\u001b[0;34m\u001b[0m\u001b[0;34m\u001b[0m\u001b[0;34m\u001b[0m\u001b[0m\n\u001b[1;32m     92\u001b[0m \u001b[0;31m#    client.create_run_from_pipeline_func(fmnist_pipeline, arguments=arguments, namespace=KUBEFLOW_PROFILE_NAME)\u001b[0m\u001b[0;34m\u001b[0m\u001b[0;34m\u001b[0m\u001b[0;34m\u001b[0m\u001b[0m\n\u001b[0;32m---> 93\u001b[0;31m     \u001b[0mTektonCompiler\u001b[0m\u001b[0;34m(\u001b[0m\u001b[0;34m)\u001b[0m\u001b[0;34m.\u001b[0m\u001b[0mcompile\u001b[0m\u001b[0;34m(\u001b[0m\u001b[0mfmnist_pipeline\u001b[0m\u001b[0;34m,\u001b[0m \u001b[0;34m\"fmnist_pipeline.yaml\"\u001b[0m\u001b[0;34m,\u001b[0m \u001b[0marguments\u001b[0m\u001b[0;34m=\u001b[0m\u001b[0marguments\u001b[0m\u001b[0;34m)\u001b[0m\u001b[0;34m\u001b[0m\u001b[0;34m\u001b[0m\u001b[0m\n\u001b[0m\u001b[1;32m     94\u001b[0m \u001b[0;34m\u001b[0m\u001b[0m\n",
      "\u001b[0;31mTypeError\u001b[0m: compile() got an unexpected keyword argument 'arguments'"
     ]
    }
   ],
   "source": [
    "import kfp\n",
    "import kfp.dsl as dsl\n",
    "import kfp.onprem as onprem\n",
    "import kfp.components as comp\n",
    "\n",
    "def echo_op(text):\n",
    "    return dsl.ContainerOp(\n",
    "        name='echo',\n",
    "        image='library/bash:4.4.23',\n",
    "        command=['sh', '-c'],\n",
    "        arguments=['echo \"$0\"', text],\n",
    "    )  \n",
    "\n",
    "@dsl.pipeline(\n",
    "    name='FMnistPipeline',\n",
    "    description='mnist '\n",
    ")\n",
    "def fmnist_pipeline(learning_rate, dropout_rate, epoch, act, layer,  \n",
    "                    checkpoint_dir, saved_model_dir, pvc_name, tensorboard_log,\n",
    "                    name, model_version, namespace):\n",
    "  \n",
    "    exit_task = echo_op(\"Done!\")\n",
    "    \n",
    "    with dsl.ExitHandler(exit_task): \n",
    "\n",
    "        kubeflow_pvc = dsl.PipelineVolume(pvc=str(pvc_name))\n",
    "        \n",
    "        mnist = dsl.ContainerOp(\n",
    "            name='FMnist',\n",
    "            image='rhojw/katib-job:8E825523',\n",
    "            command=['python', '/app/fmnist-save-model-renew.py'],\n",
    "            arguments=[\n",
    "                \"--learning_rate\", learning_rate,\n",
    "                \"--dropout_rate\", dropout_rate,\n",
    "                \"--epoch\", epoch,\n",
    "                \"--act\", act,\n",
    "                \"--layer\", layer,\n",
    "                \"--checkpoint_dir\", checkpoint_dir,\n",
    "                \"--saved_model_dir\", saved_model_dir,\n",
    "                \"--model_version\", model_version,\n",
    "                \"--tensorboard_log\", tensorboard_log\n",
    "            ],\n",
    "            pvolumes={\"/result\": kubeflow_pvc}\n",
    "        )\n",
    "        \n",
    "        result = dsl.ContainerOp(\n",
    "            name='list_list',\n",
    "            image='library/bash:4.4.23',\n",
    "            command=['ls', '-R', '/result'],\n",
    "            pvolumes={\"/result\": mnist.pvolume}\n",
    "        )\n",
    "        \n",
    "        kfserving = dsl.ContainerOp(\n",
    "            name='kfserving',\n",
    "            image='rhojw/kfserving:6962115B',\n",
    "            command=['python', '/app/KFServing-fairing.py'],\n",
    "            arguments=[\n",
    "                \"--namespace\", namespace,\n",
    "                \"--storage_uri\", \"pvc://\" +  str(pvc_name) + \"/saved_model\",\n",
    "                \"--name\", name\n",
    "            ]\n",
    "        )        \n",
    "                \n",
    "        result.after(mnist)\n",
    "        kfserving.after(result)\n",
    "    \n",
    "from kfp_tekton import TektonClient\n",
    "from kfp_tekton.compiler import TektonCompiler\n",
    "\n",
    "host = None\n",
    "KUBEFLOW_PROFILE_NAME = None\n",
    "client = TektonClient(host=host)\n",
    "    \n",
    "    \n",
    "arguments = {'learning_rate': '0.001397',\n",
    "             'dropout_rate': '0.18',\n",
    "             'epoch' : '11',\n",
    "             'act' : 'sigmoid',\n",
    "             'layer': '2',\n",
    "             'checkpoint_dir': '/reuslt/training_checkpoints',\n",
    "             'saved_model_dir':'/result/saved_model/',\n",
    "             'pvc_name' : 'demo-pvc',\n",
    "             'tensorboard_log': '/result/log',\n",
    "             'name' : 'kfserving-fmnist',\n",
    "             'model_version' : '0001',\n",
    "             'namespace' : 'kubeflow'\n",
    "            }\n",
    "    \n",
    "if __name__ == '__main__':\n",
    "#      kfp.compiler.Compiler().compile(fmnist_pipeline, 'fmnist_pipeline.tar.gz')\n",
    "#   kfp.Client().create_run_from_pipeline_func(pipeline_func=fmnist_pipeline, arguments=arguments)\n",
    "#    client.create_run_from_pipeline_func(fmnist_pipeline, arguments=arguments, namespace=KUBEFLOW_PROFILE_NAME)\n",
    "    TektonCompiler().compile(fmnist_pipeline, \"fmnist_pipeline.yaml\")\n",
    "   "
   ]
  },
  {
   "cell_type": "code",
   "execution_count": 6,
   "metadata": {},
   "outputs": [
    {
     "name": "stdout",
     "output_type": "stream",
     "text": [
      "Traceback (most recent call last):\n",
      "  File \"/usr/local/bin/saved_model_cli\", line 10, in <module>\n",
      "    sys.exit(main())\n",
      "  File \"/usr/local/lib/python3.6/dist-packages/tensorflow_core/python/tools/saved_model_cli.py\", line 909, in main\n",
      "    args.func(args)\n",
      "  File \"/usr/local/lib/python3.6/dist-packages/tensorflow_core/python/tools/saved_model_cli.py\", line 621, in show\n",
      "    _show_inputs_outputs(args.dir, args.tag_set, args.signature_def)\n",
      "  File \"/usr/local/lib/python3.6/dist-packages/tensorflow_core/python/tools/saved_model_cli.py\", line 133, in _show_inputs_outputs\n",
      "    tag_set)\n",
      "  File \"/usr/local/lib/python3.6/dist-packages/tensorflow_core/python/tools/saved_model_utils.py\", line 113, in get_meta_graph_def\n",
      "    saved_model = read_saved_model(saved_model_dir)\n",
      "  File \"/usr/local/lib/python3.6/dist-packages/tensorflow_core/python/tools/saved_model_utils.py\", line 55, in read_saved_model\n",
      "    raise IOError(\"SavedModel file does not exist at: %s\" % saved_model_dir)\n",
      "OSError: SavedModel file does not exist at: @./saved_model/001\n"
     ]
    }
   ],
   "source": [
    "!saved_model_cli show --dir @./saved_model/001 --tag_set serve --signature_def serving_default"
   ]
  },
  {
   "cell_type": "code",
   "execution_count": null,
   "metadata": {},
   "outputs": [],
   "source": []
  }
 ],
 "metadata": {
  "kernelspec": {
   "display_name": "Python 3",
   "language": "python",
   "name": "python3"
  },
  "kubeflow_notebook": {
   "autosnapshot": false,
   "docker_image": "rhojw/jupyterlab:0.9",
   "experiment": {
    "id": "",
    "name": ""
   },
   "experiment_name": "",
   "katib_metadata": {
    "algorithm": {
     "algorithmName": "grid"
    },
    "maxFailedTrialCount": 3,
    "maxTrialCount": 12,
    "objective": {
     "objectiveMetricName": "",
     "type": "minimize"
    },
    "parallelTrialCount": 3,
    "parameters": []
   },
   "katib_run": false,
   "pipeline_description": "",
   "pipeline_name": "",
   "snapshot_volumes": false,
   "steps_defaults": [],
   "volumes": []
  },
  "language_info": {
   "codemirror_mode": {
    "name": "ipython",
    "version": 3
   },
   "file_extension": ".py",
   "mimetype": "text/x-python",
   "name": "python",
   "nbconvert_exporter": "python",
   "pygments_lexer": "ipython3",
   "version": "3.6.9"
  }
 },
 "nbformat": 4,
 "nbformat_minor": 4
}
